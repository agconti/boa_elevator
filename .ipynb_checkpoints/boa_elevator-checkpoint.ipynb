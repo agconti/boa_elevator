{
 "metadata": {
  "name": ""
 },
 "nbformat": 3,
 "nbformat_minor": 0,
 "worksheets": [
  {
   "cells": [
    {
     "cell_type": "code",
     "collapsed": false,
     "input": [
      "cat i"
     ],
     "language": "python",
     "metadata": {},
     "outputs": [
      {
       "output_type": "stream",
       "stream": "stdout",
       "text": [
        "10:8-1\r\n",
        "9:1-5,1-6,1-5\r\n",
        "2:4-1,4-2,6-8\r\n",
        "3:7-9,3-7,5-8,7-11,11-1\r\n",
        "7:11-6,10-5,6-8,7-4,12-7,8-9\r\n",
        "6:1-8,6-8"
       ]
      }
     ],
     "prompt_number": 15
    },
    {
     "cell_type": "code",
     "collapsed": false,
     "input": [
      "def elevator(f, mode):\n",
      "    '''\n",
      "    BOA elevator function\n",
      "    \n",
      "    --Inputs -- \n",
      "    \n",
      "    f is the input file's path in quotes\n",
      "    ie. 'input/sample.txt'\n",
      "    \n",
      "    Mode is the mode elevator's operating mode.\n",
      "    ie. 'A', or 'B'\n",
      "    \n",
      "    '''\n",
      "    import sys\n",
      "    mode = 'A'\n",
      "    tasks = parse_input(f)\n",
      "    "
     ],
     "language": "python",
     "metadata": {},
     "outputs": [],
     "prompt_number": 297
    },
    {
     "cell_type": "code",
     "collapsed": false,
     "input": [
      "def parse_input(f):    \n",
      "    '''\n",
      "    f is the input file's path in quotes\n",
      "    ie. 'input/sample.txt'\n",
      "    \n",
      "    returns a parsed list of elevator tasks\n",
      "    '''\n",
      "    import re\n",
      "    tasks = []\n",
      "    with open(f, 'r') as f:\n",
      "        for i in f:\n",
      "            append_holder = []\n",
      "            \n",
      "            i = i.strip()\n",
      "            split_holder = re.split(\":|-|,\", i)\n",
      "            \n",
      "            \n",
      "            #append starting floor value\n",
      "            append_holder.append(int(split_holder[0]))\n",
      "            \n",
      "            \n",
      "            #append tuples of start & end floors for tasks\n",
      "            for i in xrange(1, len(split_holder),2):\n",
      "                append_holder.append((int(split_holder[i]), int(split_holder[i+1])))\n",
      "                \n",
      "            \n",
      "            #append out append_holder bin to our output list; tasks.\n",
      "            tasks.append(append_holder)\n",
      "            del append_holder\n",
      "        return tasks\n",
      "            "
     ],
     "language": "python",
     "metadata": {},
     "outputs": [],
     "prompt_number": 272
    },
    {
     "cell_type": "code",
     "collapsed": false,
     "input": [
      "def mode_A(task):\n",
      "    '''\n",
      "    '''\n",
      "    #for mode A\n",
      "    trip_total = 0\n",
      "    trip_total = abs(task[0] - task[1][0])\n",
      "    \n",
      "    #output stating floor:\n",
      "    sys.stdout.write(\"%s \" % task[0])\n",
      "    \n",
      "    for i in xrange(1, len(task)):\n",
      "        # raise error if data is malformed\n",
      "        if len(task[i]) != 2:\n",
      "            sys.stdout.write('\\n[Error!] Data in task %s is not in the correct '\\\n",
      "                    '[<start_floor> - <end_floor>] format.\\nTask:\\n%s\\n'\\\n",
      "                    %(i, task[i]))\n",
      "        \n",
      "        #calculate intra-floor trip distance\n",
      "        trip_total += abs(task[i][1] - task[i][0])\n",
      "        \n",
      "        #output floors travled\n",
      "        sys.stdout.write(\"%s \" % task[i][0])\n",
      "        sys.stdout.write(\"%s \" % task[i][1])\n",
      "        \n",
      "        #calculate distance travled between requests\n",
      "        if (i+1) < len(task):\n",
      "            trip_total += abs(task[i][1] - task[i+1][0])\n",
      "    \n",
      "    sys.stdout.write(\"(%s)\\n\" % trip_total)\n",
      "        \n",
      "  "
     ],
     "language": "python",
     "metadata": {},
     "outputs": [],
     "prompt_number": 322
    },
    {
     "cell_type": "code",
     "collapsed": false,
     "input": [
      "tasks = parse_input('input/sample.txt')\n",
      "for i in tasks:\n",
      "    mode_A(i)"
     ],
     "language": "python",
     "metadata": {},
     "outputs": [
      {
       "output_type": "stream",
       "stream": "stdout",
       "text": [
        "10 8 1 (9)\n",
        "9 1 5 1 6 1 5 (30)\n",
        "2 4 1 4 2 6 8 (16)\n",
        "3 7 9 3 7 5 8 7 11 11 1 (36)\n",
        "7 11 6 10 5 6 8 7 4 12 7 8 9 (40)\n",
        "6 1 8 6 8 (16)\n"
       ]
      }
     ],
     "prompt_number": 323
    },
    {
     "cell_type": "code",
     "collapsed": false,
     "input": [
      "# could have seperate calcualtes and be DRY"
     ],
     "language": "python",
     "metadata": {},
     "outputs": []
    },
    {
     "cell_type": "code",
     "collapsed": false,
     "input": [
      "def mode_B(tasks):\n",
      "    for task in tasks: \n",
      "        sys.stdout.write(\"%s \" % task[0])\n",
      "        task_view = task[1:]\n",
      "        task_view.sort(reverse=True)\n",
      "        \n",
      "        #print \"task is: %s\\n\"%task_view\n",
      "        \n",
      "        remove_list=[]\n",
      "        for i in range(1, len(task_view)):\n",
      "            #trips going up:\n",
      "            if task_view[i][0] >= task_view[0][0] and task_view[i][1] <= task_view[0][1]:\n",
      "                remove_list.append(task_view[i])\n",
      "            #trips going down:\n",
      "            else:\n",
      "                print \"pass\"\n",
      "        #print \"removeset is : %s\" %remove_list        \n",
      "        for i in remove_list:\n",
      "            task.remove(i)\n",
      "        \n",
      "        for i in set(remove_list):\n",
      "            sys.stdout.write(\"%s %s \" %(i[0],i[1]))\n",
      "        \n",
      "        sys.stdout.write(\"%s \" %task[1][1])\n",
      "        \n",
      "        #calcualte trip total\n",
      "        trip_total = 0\n",
      "        trip_total = abs(task[0] - task[1][0])\n",
      "        \n",
      "        for i in xrange(1, len(task)):\n",
      "            # raise error if data is malformed\n",
      "            if len(task[i]) != 2:\n",
      "                sys.stdout.write('\\n[Error!] Data in task %s is not in the correct '\\\n",
      "                        '[<start_floor> - <end_floor>] format.\\nTask:\\n%s\\n'\\\n",
      "                        %(i, task[i]))\n",
      "            \n",
      "            #calculate intra-floor trip distance\n",
      "            trip_total += abs(task[i][1] - task[i][0])\n",
      "            \n",
      "            #calculate distance travled between requests\n",
      "            if (i+1) < len(task):\n",
      "                trip_total += abs(task[i][1] - task[i+1][0])\n",
      "        \n",
      "        sys.stdout.write(\"(%s)\\n\" % trip_total)\n",
      "    \n",
      "\n",
      "        \n",
      "  "
     ],
     "language": "python",
     "metadata": {},
     "outputs": [],
     "prompt_number": 488
    },
    {
     "cell_type": "code",
     "collapsed": false,
     "input": [
      "tasks = parse_input('input/sample.txt')\n",
      "for i in tasks:\n",
      "    mode_A(i)"
     ],
     "language": "python",
     "metadata": {},
     "outputs": [
      {
       "output_type": "stream",
       "stream": "stdout",
       "text": [
        "10 8 1 (9)\n",
        "9 1 5 1 6 1 5 (30)\n",
        "2 4 1 4 2 6 8 (16)\n",
        "3 7 9 3 7 5 8 7 11 11 1 (36)\n",
        "7 11 6 10 5 6 8 7 4 12 7 8 9 (40)\n",
        "6 1 8 6 8 (16)\n"
       ]
      }
     ],
     "prompt_number": 490
    },
    {
     "cell_type": "code",
     "collapsed": false,
     "input": [
      "#B expects a lits of tasks not a single task\n",
      "tasks = parse_input('input/sample.txt')\n",
      "mode_B(tasks)"
     ],
     "language": "python",
     "metadata": {},
     "outputs": [
      {
       "output_type": "stream",
       "stream": "stdout",
       "text": [
        "10 1 (9)\n",
        "9 1 5 6 (13)\n",
        "2 pass\n",
        "pass\n",
        "1 (16)\n",
        "3 pass\n",
        "pass\n",
        "pass\n",
        "pass\n",
        "9 (36)\n",
        "7 pass\n",
        "pass\n",
        "pass\n",
        "pass\n",
        "pass\n",
        "6 (40)\n",
        "6 pass\n",
        "8 (16)\n"
       ]
      }
     ],
     "prompt_number": 491
    },
    {
     "cell_type": "code",
     "collapsed": false,
     "input": [
      "10 8 1 (9)\n",
      "9 1 5 6 (13)\n",
      "2 4 2 1 6 8 (12)\n",
      "3 5 7 8 9 11 1 (18)\n",
      "7 11 10 6 5 6 8 12 7 4 8 9 (30)\n",
      "6 1 6 8 (12)"
     ],
     "language": "python",
     "metadata": {},
     "outputs": []
    },
    {
     "cell_type": "code",
     "collapsed": false,
     "input": [],
     "language": "python",
     "metadata": {},
     "outputs": [
      {
       "metadata": {},
       "output_type": "pyout",
       "prompt_number": 470,
       "text": [
        "[(1, 6), (1, 5), (1, 5)]"
       ]
      }
     ],
     "prompt_number": 470
    },
    {
     "cell_type": "code",
     "collapsed": false,
     "input": [
      "tasks = parse_input('input/sample.txt')\n",
      "task = tasks[1]\n",
      "sys.stdout.write(\"%s \" % task[0])\n",
      "task_view = task[1:]\n",
      "task_view.sort(reverse=True)\n",
      "\n",
      "print \"task is: %s\\n\"%task_view\n",
      "\n",
      "remove_list=[]\n",
      "for i in range(1, len(task_view)):\n",
      "    #trips going up:\n",
      "    if task_view[i][0] >= task_view[0][0] and task_view[i][1] <= task_view[0][1]:\n",
      "        remove_list.append(task_view[i])\n",
      "    #trips going down:\n",
      "    else:\n",
      "        print \"pass\"\n",
      "print \"removeset is : %s\" %remove_list        \n",
      "for i in remove_list:\n",
      "    task.remove(i)\n",
      "\n",
      "print \"taskset less removeset is : %s\" %task \n",
      "for i in set(remove_list):\n",
      "    sys.stdout.write(\"%s %s \" %(i[0],i[1]))\n",
      "\n",
      "#\n",
      "sys.stdout.write(\"%s \" %task[1][1])\n",
      "#calcualte trip total\n",
      "trip_total = 0\n",
      "trip_total = abs(task[0] - task[1][0])\n",
      "\n",
      "for i in xrange(1, len(task)):\n",
      "    # raise error if data is malformed\n",
      "    if len(task[i]) != 2:\n",
      "        sys.stdout.write('\\n[Error!] Data in task %s is not in the correct '\\\n",
      "                '[<start_floor> - <end_floor>] format.\\nTask:\\n%s\\n'\\\n",
      "                %(i, task[i]))\n",
      "    \n",
      "    #calculate intra-floor trip distance\n",
      "    trip_total += abs(task[i][1] - task[i][0])\n",
      "    \n",
      "    #calculate distance travled between requests\n",
      "    if (i+1) < len(task):\n",
      "        trip_total += abs(task[i][1] - task[i+1][0])\n",
      "\n",
      "sys.stdout.write(\"(%s)\\n\" % trip_total)\n",
      "    \n"
     ],
     "language": "python",
     "metadata": {},
     "outputs": [
      {
       "output_type": "stream",
       "stream": "stdout",
       "text": [
        "9 task is: [(1, 6), (1, 5), (1, 5)]\n",
        "\n",
        "removeset is : [(1, 5), (1, 5)]\n",
        "taskset less removeset is : [9, (1, 6)]\n",
        "1 5 6 (13)\n"
       ]
      }
     ],
     "prompt_number": 499
    },
    {
     "cell_type": "code",
     "collapsed": false,
     "input": [
      "remove_list"
     ],
     "language": "python",
     "metadata": {},
     "outputs": [
      {
       "metadata": {},
       "output_type": "pyout",
       "prompt_number": 440,
       "text": [
        "[]"
       ]
      }
     ],
     "prompt_number": 440
    },
    {
     "cell_type": "code",
     "collapsed": false,
     "input": [
      "for i in set(tst):\n",
      "    print i\n",
      "    "
     ],
     "language": "python",
     "metadata": {},
     "outputs": [
      {
       "output_type": "stream",
       "stream": "stdout",
       "text": [
        "9\n",
        "(1, 6)\n"
       ]
      }
     ],
     "prompt_number": 434
    },
    {
     "cell_type": "code",
     "collapsed": false,
     "input": [
      "dist = []\n",
      "for i in range(1,len(tst)):\n",
      "    dist.append(tst[i][1]-tst[i][0])"
     ],
     "language": "python",
     "metadata": {},
     "outputs": [],
     "prompt_number": 377
    },
    {
     "cell_type": "code",
     "collapsed": false,
     "input": [
      "dist"
     ],
     "language": "python",
     "metadata": {},
     "outputs": [
      {
       "metadata": {},
       "output_type": "pyout",
       "prompt_number": 378,
       "text": [
        "[4, 5, 4]"
       ]
      }
     ],
     "prompt_number": 378
    },
    {
     "cell_type": "code",
     "collapsed": false,
     "input": [
      "dist.sort(reverse=True)"
     ],
     "language": "python",
     "metadata": {},
     "outputs": [],
     "prompt_number": 379
    },
    {
     "cell_type": "code",
     "collapsed": false,
     "input": [
      "dist"
     ],
     "language": "python",
     "metadata": {},
     "outputs": [
      {
       "metadata": {},
       "output_type": "pyout",
       "prompt_number": 380,
       "text": [
        "[5, 4, 4]"
       ]
      }
     ],
     "prompt_number": 380
    },
    {
     "cell_type": "code",
     "collapsed": false,
     "input": [
      "del_list = []\n",
      "for i in xrange(0, len(dist)):\n",
      "    val = dist[i]\n",
      "    for i_2 in xrange((i+1), len(dist)):\n",
      "                if i < val:\n",
      "                    del_list.append(dist[i_2])\n",
      "        "
     ],
     "language": "python",
     "metadata": {},
     "outputs": [],
     "prompt_number": 384
    },
    {
     "cell_type": "code",
     "collapsed": false,
     "input": [
      "dist"
     ],
     "language": "python",
     "metadata": {},
     "outputs": [
      {
       "metadata": {},
       "output_type": "pyout",
       "prompt_number": 385,
       "text": [
        "[5, 4, 4]"
       ]
      }
     ],
     "prompt_number": 385
    },
    {
     "cell_type": "code",
     "collapsed": false,
     "input": [
      "del_list"
     ],
     "language": "python",
     "metadata": {},
     "outputs": [
      {
       "metadata": {},
       "output_type": "pyout",
       "prompt_number": 386,
       "text": [
        "[4, 4, 4]"
       ]
      }
     ],
     "prompt_number": 386
    },
    {
     "cell_type": "code",
     "collapsed": false,
     "input": [],
     "language": "python",
     "metadata": {},
     "outputs": []
    }
   ],
   "metadata": {}
  }
 ]
}