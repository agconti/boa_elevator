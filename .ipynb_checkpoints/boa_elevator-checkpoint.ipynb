{
 "metadata": {
  "name": ""
 },
 "nbformat": 3,
 "nbformat_minor": 0,
 "worksheets": [
  {
   "cells": [
    {
     "cell_type": "code",
     "collapsed": false,
     "input": [
      "cat input/sample.txt"
     ],
     "language": "python",
     "metadata": {},
     "outputs": [
      {
       "output_type": "stream",
       "stream": "stdout",
       "text": [
        "10:8-1\r\n",
        "9:1-5,1-6,1-5\r\n",
        "2:4-1,4-2,6-8\r\n",
        "3:7-9,3-7,5-8,7-11,11-1\r\n",
        "7:11-6,10-5,6-8,7-4,12-7,8-9\r\n",
        "6:1-8,6-8"
       ]
      }
     ],
     "prompt_number": 10
    },
    {
     "cell_type": "code",
     "collapsed": false,
     "input": [
      "import sys"
     ],
     "language": "python",
     "metadata": {},
     "outputs": [],
     "prompt_number": 15
    },
    {
     "cell_type": "code",
     "collapsed": false,
     "input": [
      "def elevator(f, mode):\n",
      "    '''\n",
      "    BOA elevator function\n",
      "    \n",
      "    --Inputs -- \n",
      "    \n",
      "    f is the input file's path in quotes\n",
      "    ie. 'input/sample.txt'\n",
      "    \n",
      "    Mode is the mode elevator's operating mode.\n",
      "    ie. 'A', or 'B'\n",
      "    \n",
      "    '''\n",
      "    import sys\n",
      "    mode = 'A'\n",
      "    tasks = parse_input(f)\n",
      "    \n",
      "    if mode.upper() == 'A':\n",
      "        for i in tasks:\n",
      "            mode_A(i)\n",
      "    \n",
      "    if mode.upper() == 'B':\n",
      "        for i in tasks:\n",
      "            mode_B(i)"
     ],
     "language": "python",
     "metadata": {},
     "outputs": [],
     "prompt_number": 11
    },
    {
     "cell_type": "code",
     "collapsed": false,
     "input": [
      "def parse_input(f):    \n",
      "    '''\n",
      "    f is the input file's path in quotes\n",
      "    ie. 'input/sample.txt'\n",
      "    \n",
      "    returns a parsed list of elevator tasks\n",
      "    '''\n",
      "    import re\n",
      "    tasks = []\n",
      "    with open(f, 'r') as f:\n",
      "        for i in f:\n",
      "            append_holder = []\n",
      "            \n",
      "            i = i.strip()\n",
      "            split_holder = re.split(\":|-|,\", i)\n",
      "            \n",
      "            \n",
      "            #append starting floor value\n",
      "            append_holder.append(int(split_holder[0]))\n",
      "            \n",
      "            \n",
      "            #append tuples of start & end floors for tasks\n",
      "            for i in xrange(1, len(split_holder),2):\n",
      "                append_holder.append((int(split_holder[i]), int(split_holder[i+1])))\n",
      "                \n",
      "            \n",
      "            #append out append_holder bin to our output list; tasks.\n",
      "            tasks.append(append_holder)\n",
      "            del append_holder\n",
      "        return tasks\n",
      "            "
     ],
     "language": "python",
     "metadata": {},
     "outputs": [],
     "prompt_number": 16
    },
    {
     "cell_type": "code",
     "collapsed": false,
     "input": [
      "def mode_A(task):\n",
      "    '''\n",
      "    '''\n",
      "    trip_total = 0\n",
      "    \n",
      "    #calculate distance from starting floor to first task.\n",
      "    trip_total = abs(task[0] - task[1][0])\n",
      "    sys.stdout.write(\"%s \" % task[0])\n",
      "    task_lag = task[0]\n",
      "    for i in xrange(1, len(task)):\n",
      "        # print an error if data is malformed\n",
      "        if len(task[i]) != 2:\n",
      "            sys.stdout.write('\\n[Error!] Data in task %s is not in the correct '\\\n",
      "                    '[<start_floor> - <end_floor>] format.\\nTask:\\n%s\\n'\\\n",
      "                    %(i, task[i]))\n",
      "        \n",
      "        #calculate intra-floor trip distance\n",
      "        trip_total += abs(task[i][1] - task[i][0])\n",
      "        \n",
      "        \n",
      "        #output floors travled\n",
      "        if task_lag != task[i][0]:\n",
      "            sys.stdout.write(\"%s \" % task[i][0])\n",
      "        \n",
      "        sys.stdout.write(\"%s \" % task[i][1])\n",
      "        \n",
      "        task_lag = task[i][1]\n",
      "        \n",
      "        #calculate distance travled between requests\n",
      "        if (i+1) < len(task):\n",
      "            trip_total += abs(task[i][1] - task[i+1][0])\n",
      "    #output total distance traveld \n",
      "    sys.stdout.write(\"(%s)\\n\" % trip_total)\n",
      "        \n",
      "  "
     ],
     "language": "python",
     "metadata": {},
     "outputs": [],
     "prompt_number": 558
    },
    {
     "cell_type": "code",
     "collapsed": false,
     "input": [
      "tasks = parse_input('input/sample.txt')\n",
      "for i in tasks:\n",
      "    mode_A(i)"
     ],
     "language": "python",
     "metadata": {},
     "outputs": [
      {
       "output_type": "stream",
       "stream": "stdout",
       "text": [
        "10 8 1 (9)\n",
        "9 1 5 1 6 1 5 (30)\n",
        "2 4 1 4 2 6 8 (16)\n",
        "3 7 9 3 7 5 8 7 11 1 (36)\n",
        "7 11 6 10 5 6 8 7 4 12 7 8 9 (40)\n",
        "6 1 8 6 8 (16)\n"
       ]
      }
     ],
     "prompt_number": 559
    },
    {
     "cell_type": "code",
     "collapsed": false,
     "input": [
      "11 != 11"
     ],
     "language": "python",
     "metadata": {},
     "outputs": [
      {
       "metadata": {},
       "output_type": "pyout",
       "prompt_number": 477,
       "text": [
        "False"
       ]
      }
     ],
     "prompt_number": 477
    },
    {
     "cell_type": "code",
     "collapsed": false,
     "input": [
      "True and (2 in []) == False"
     ],
     "language": "python",
     "metadata": {},
     "outputs": [
      {
       "metadata": {},
       "output_type": "pyout",
       "prompt_number": 444,
       "text": [
        "True"
       ]
      }
     ],
     "prompt_number": 444
    },
    {
     "cell_type": "code",
     "collapsed": false,
     "input": [
      "def safely_add_to_list(val, target_list):\n",
      "    '''\n",
      "    adds only unqiue vales to a target list\n",
      "    '''\n",
      "    if (val in target_list) == False:\n",
      "        target_list.append(val)\n",
      "        \n",
      "    "
     ],
     "language": "python",
     "metadata": {},
     "outputs": [],
     "prompt_number": 499
    },
    {
     "cell_type": "code",
     "collapsed": false,
     "input": [],
     "language": "python",
     "metadata": {},
     "outputs": [],
     "prompt_number": 499
    },
    {
     "cell_type": "code",
     "collapsed": false,
     "input": [
      "def mode_B(task):\n",
      "    #handle case where path cannot be optimized beyond mode A\n",
      "    if len(task) < 3:\n",
      "        mode_A(task)\n",
      "    else:\n",
      "        import math\n",
      "        trip_total = 0\n",
      "        \n",
      "        output = []\n",
      "        sequence_list = []\n",
      "        previous_sequence_list = None\n",
      "        last_task = False\n",
      "        first_sequence = True\n",
      "        starting_floor = task[0]\n",
      "        safely_add_to_list(starting_floor, output)\n",
      "        for task_index in xrange(1, len(task)):\n",
      "            \n",
      "            current_task = task[task_index]\n",
      "            current_direction = math.copysign(1, (current_task[0] - current_task[1]))\n",
      "            \n",
      "            #check if last task\n",
      "            if (task_index) == (len(task) - 1):\n",
      "                last_task = True\n",
      "            else:\n",
      "                next_task = task[(task_index + 1)]\n",
      "                next_direction = math.copysign(1, (next_task[0] - next_task[1]))\n",
      "                \n",
      "            safely_add_to_list(current_task[0], sequence_list)\n",
      "            safely_add_to_list(current_task[1], sequence_list)\n",
      "            \n",
      "            #print  trip_total, current_task[0], current_task[1], current_direction, next_direction, (current_direction != next_direction), last_task, task_index, task[task_index]\n",
      "         \n",
      "            if (current_direction != next_direction) or last_task:\n",
      "                \n",
      "                #Handle the case where the elevator is going up\n",
      "                if current_direction < 0:\n",
      "                    sequence_list.sort()\n",
      "                    for floor in sequence_list:\n",
      "                        output.append(floor)\n",
      "                    \n",
      "                    for i in xrange(1, len(sequence_list)):\n",
      "                        trip_total += (sequence_list[i] - sequence_list[i-1])\n",
      "                        \n",
      "                        #print \"[%s] trip_total + [%s] me unload %s\" %(trip_total, (sequence_list[i] - sequence_list[i-1]), sequence_list)\n",
      "                \n",
      "                #Handle the case where the elevator is going down    \n",
      "                else:\n",
      "                    sequence_list.sort(reverse=True)\n",
      "                    for floor in sequence_list:\n",
      "                        output.append(floor)\n",
      "                    \n",
      "                    for i in xrange(1, len(sequence_list)):\n",
      "                        trip_total += (sequence_list[i-1] - sequence_list[i])\n",
      "                         \n",
      "                        #print \"[%s] trip_total + [%s] unload %s\" %(trip_total, (sequence_list[i-1] - sequence_list[i]), sequence_list)\n",
      "                \n",
      "                #print \"seq l [%s]\" %sequence_list\n",
      "                \n",
      "                #calcualte intra-sqeucence dist\n",
      "                if (previous_sequence_list != None):\n",
      "                    trip_total += abs(previous_sequence_list[-1] - sequence_list[0])\n",
      "                    \n",
      "                    #print \"[%s] trip_total + [%s] dist between %s (%s) and (%s) %s\" %(trip_total, abs(sequence_list[-1] - next_task[0]),sequence_list[-2], sequence_list[-1], next_task[0], next_task[1])\n",
      "                \n",
      "                if first_sequence == True:\n",
      "                    #calculate distance from starting floor to first task.\n",
      "                    trip_total += abs(starting_floor - sequence_list[0])\n",
      "                    \n",
      "                    #print \"first seq tt=%s %s\" %(trip_total, abs(starting_floor - sequence_list[0]))\n",
      "                    \n",
      "                \n",
      "                #reset vars    \n",
      "                previous_sequence_list = sequence_list\n",
      "                del sequence_list\n",
      "                sequence_list = []\n",
      "                first_sequence = False\n",
      "            \n",
      "           \n",
      "            \n",
      "            \n",
      "        \n",
      "        for i in xrange(0, len(output)):\n",
      "            if i > 0 :\n",
      "                if output[i] != output[i-1]:\n",
      "                    sys.stdout.write(\"%s \" % output[i])\n",
      "            else:\n",
      "                sys.stdout.write(\"%s \" % output[i])\n",
      "            \n",
      "        sys.stdout.write(\"(%s)\\n\" %trip_total)\n",
      "                    \n",
      "            "
     ],
     "language": "python",
     "metadata": {},
     "outputs": [],
     "prompt_number": 554
    },
    {
     "cell_type": "code",
     "collapsed": false,
     "input": [
      "tasks = parse_input('input/sample.txt')\n",
      "\n",
      "mode_B(tasks[4])"
     ],
     "language": "python",
     "metadata": {},
     "outputs": [
      {
       "output_type": "stream",
       "stream": "stdout",
       "text": [
        "7 11 10 6 5 6 8 12 7 4 8 9 (30)\n"
       ]
      }
     ],
     "prompt_number": 555
    },
    {
     "cell_type": "code",
     "collapsed": false,
     "input": [
      "cat input/sample.txt"
     ],
     "language": "python",
     "metadata": {},
     "outputs": [
      {
       "output_type": "stream",
       "stream": "stdout",
       "text": [
        "10:8-1\r\n",
        "9:1-5,1-6,1-5\r\n",
        "2:4-1,4-2,6-8\r\n",
        "3:7-9,3-7,5-8,7-11,11-1\r\n",
        "7:11-6,10-5,6-8,7-4,12-7,8-9\r\n",
        "6:1-8,6-8"
       ]
      }
     ],
     "prompt_number": 556
    },
    {
     "cell_type": "code",
     "collapsed": false,
     "input": [
      "for i in tasks:\n",
      "    mode_B(i)"
     ],
     "language": "python",
     "metadata": {},
     "outputs": [
      {
       "output_type": "stream",
       "stream": "stdout",
       "text": [
        "10 8 1 (9)\n",
        "9 1 5 6 (13)\n",
        "2 4 2 1 6 8 (12)\n",
        "3 5 7 8 9 11 1 (18)\n",
        "7 11 10 6 5 6 8 12 7 4 8 9 (30)\n",
        "6 1 6 8 (12)\n"
       ]
      }
     ],
     "prompt_number": 557
    },
    {
     "cell_type": "code",
     "collapsed": false,
     "input": [
      "10 8 1 (9)\n",
      "9 1 5 6 (13)\n",
      "2 4 2 1 6 8 (12)\n",
      "3 5 7 8 9 11 1 (18)\n",
      "7 11 10 6 5 6 8 12 7 4 8 9 (30)\n",
      "6 1 6 8 (12)"
     ],
     "language": "python",
     "metadata": {},
     "outputs": [
      {
       "ename": "SyntaxError",
       "evalue": "invalid syntax (<ipython-input-535-010f4b4ee789>, line 1)",
       "output_type": "pyerr",
       "traceback": [
        "\u001b[1;36m  File \u001b[1;32m\"<ipython-input-535-010f4b4ee789>\"\u001b[1;36m, line \u001b[1;32m1\u001b[0m\n\u001b[1;33m    10 8 1 (9)\u001b[0m\n\u001b[1;37m       ^\u001b[0m\n\u001b[1;31mSyntaxError\u001b[0m\u001b[1;31m:\u001b[0m invalid syntax\n"
       ]
      }
     ],
     "prompt_number": 535
    },
    {
     "cell_type": "code",
     "collapsed": false,
     "input": [],
     "language": "python",
     "metadata": {},
     "outputs": []
    }
   ],
   "metadata": {}
  }
 ]
}