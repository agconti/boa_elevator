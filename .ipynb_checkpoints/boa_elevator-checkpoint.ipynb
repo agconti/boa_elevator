{
 "metadata": {
  "name": ""
 },
 "nbformat": 3,
 "nbformat_minor": 0,
 "worksheets": [
  {
   "cells": [
    {
     "cell_type": "code",
     "collapsed": false,
     "input": [
      "cat input/sample.txt"
     ],
     "language": "python",
     "metadata": {},
     "outputs": [
      {
       "output_type": "stream",
       "stream": "stdout",
       "text": [
        "10:8-1\r\n",
        "9:1-5,1-6,1-5\r\n",
        "2:4-1,4-2,6-8\r\n",
        "3:7-9,3-7,5-8,7-11,11-1\r\n",
        "7:11-6,10-5,6-8,7-4,12-7,8-9\r\n",
        "6:1-8,6-8"
       ]
      }
     ],
     "prompt_number": 10
    },
    {
     "cell_type": "code",
     "collapsed": false,
     "input": [
      "import sys"
     ],
     "language": "python",
     "metadata": {},
     "outputs": [],
     "prompt_number": 15
    },
    {
     "cell_type": "code",
     "collapsed": false,
     "input": [
      "def elevator(f, mode):\n",
      "    '''\n",
      "    BOA elevator function\n",
      "    \n",
      "    --Inputs -- \n",
      "    \n",
      "    f is the input file's path in quotes\n",
      "    ie. 'input/sample.txt'\n",
      "    \n",
      "    Mode is the mode elevator's operating mode.\n",
      "    ie. 'A', or 'B'\n",
      "    \n",
      "    '''\n",
      "    import sys\n",
      "    mode = 'A'\n",
      "    tasks = parse_input(f)\n",
      "    "
     ],
     "language": "python",
     "metadata": {},
     "outputs": [],
     "prompt_number": 11
    },
    {
     "cell_type": "code",
     "collapsed": false,
     "input": [
      "def parse_input(f):    \n",
      "    '''\n",
      "    f is the input file's path in quotes\n",
      "    ie. 'input/sample.txt'\n",
      "    \n",
      "    returns a parsed list of elevator tasks\n",
      "    '''\n",
      "    import re\n",
      "    tasks = []\n",
      "    with open(f, 'r') as f:\n",
      "        for i in f:\n",
      "            append_holder = []\n",
      "            \n",
      "            i = i.strip()\n",
      "            split_holder = re.split(\":|-|,\", i)\n",
      "            \n",
      "            \n",
      "            #append starting floor value\n",
      "            append_holder.append(int(split_holder[0]))\n",
      "            \n",
      "            \n",
      "            #append tuples of start & end floors for tasks\n",
      "            for i in xrange(1, len(split_holder),2):\n",
      "                append_holder.append((int(split_holder[i]), int(split_holder[i+1])))\n",
      "                \n",
      "            \n",
      "            #append out append_holder bin to our output list; tasks.\n",
      "            tasks.append(append_holder)\n",
      "            del append_holder\n",
      "        return tasks\n",
      "            "
     ],
     "language": "python",
     "metadata": {},
     "outputs": [],
     "prompt_number": 16
    },
    {
     "cell_type": "code",
     "collapsed": false,
     "input": [
      "def mode_A(task):\n",
      "    '''\n",
      "    '''\n",
      "    #for mode A\n",
      "    trip_total = 0\n",
      "    \n",
      "    #calculate distance from starting floor to first task.\n",
      "    trip_total = abs(task[0] - task[1][0])\n",
      "    sys.stdout.write(\"%s \" % task[0])\n",
      "    \n",
      "    for i in xrange(1, len(task)):\n",
      "        # raise error if data is malformed\n",
      "        if len(task[i]) != 2:\n",
      "            sys.stdout.write('\\n[Error!] Data in task %s is not in the correct '\\\n",
      "                    '[<start_floor> - <end_floor>] format.\\nTask:\\n%s\\n'\\\n",
      "                    %(i, task[i]))\n",
      "        \n",
      "        #calculate intra-floor trip distance\n",
      "        trip_total += abs(task[i][1] - task[i][0])\n",
      "        \n",
      "        #output floors travled\n",
      "        sys.stdout.write(\"%s \" % task[i][0])\n",
      "        sys.stdout.write(\"%s \" % task[i][1])\n",
      "        \n",
      "        #calculate distance travled between requests\n",
      "        if (i+1) < len(task):\n",
      "            trip_total += abs(task[i][1] - task[i+1][0])\n",
      "    \n",
      "    sys.stdout.write(\"(%s)\\n\" % trip_total)\n",
      "        \n",
      "  "
     ],
     "language": "python",
     "metadata": {},
     "outputs": [],
     "prompt_number": 17
    },
    {
     "cell_type": "code",
     "collapsed": false,
     "input": [
      "tasks = parse_input('input/sample.txt')\n",
      "for i in tasks:\n",
      "    mode_A(i)"
     ],
     "language": "python",
     "metadata": {},
     "outputs": [
      {
       "output_type": "stream",
       "stream": "stdout",
       "text": [
        "10 8 1 (9)\n",
        "9 1 5 1 6 1 5 (30)\n",
        "2 4 1 4 2 6 8 (16)\n",
        "3 7 9 3 7 5 8 7 11 11 1 (36)\n",
        "7 11 6 10 5 6 8 7 4 12 7 8 9 (40)\n",
        "6 1 8 6 8 (16)\n"
       ]
      }
     ],
     "prompt_number": 18
    },
    {
     "cell_type": "code",
     "collapsed": false,
     "input": [
      "# could have seperate calcualtes and be DRY"
     ],
     "language": "python",
     "metadata": {},
     "outputs": [],
     "prompt_number": 19
    },
    {
     "cell_type": "code",
     "collapsed": false,
     "input": [
      "tasks = parse_input('input/sample.txt')\n",
      "for i in tasks:\n",
      "    mode_A(i)"
     ],
     "language": "python",
     "metadata": {},
     "outputs": [
      {
       "output_type": "stream",
       "stream": "stdout",
       "text": [
        "10 8 1 (9)\n",
        "9 1 5 1 6 1 5 (30)\n",
        "2 4 1 4 2 6 8 (16)\n",
        "3 7 9 3 7 5 8 7 11 11 1 (36)\n",
        "7 11 6 10 5 6 8 7 4 12 7 8 9 (40)\n",
        "6 1 8 6 8 (16)\n"
       ]
      }
     ],
     "prompt_number": 20
    },
    {
     "cell_type": "code",
     "collapsed": false,
     "input": [
      "def mode_B(task):\n",
      "    sys.stdout.write(\"%s \" %task[0])\n",
      "    task_view = task[1:]\n",
      "    task_view.sort(reverse=True)\n",
      "    \n",
      "    \n",
      "    #print \"task is: %s\\n\"%task_view\n",
      "    \n",
      "    remove_list = []\n",
      "    output_list = []\n",
      "    for i in range(1, len(task_view)):\n",
      "        \n",
      "        #set direction\n",
      "        if task_view[0][0] - task_view[0][1] < 0:\n",
      "            going_up = True\n",
      "        else:\n",
      "            going_up = False\n",
      "            \n",
      "        #trips going up:\n",
      "        if (going_up == True) and (task_view[i][0] >= task_view[0][0] and task_view[i][1] <= task_view[0][1]):\n",
      "            if (task_view[i][0] in output_list) == False:\n",
      "                output_list.append(task_view[i][0])\n",
      "            if (task_view[i][1] in output_list) == False:\n",
      "                output_list.append(task_view[i][1])\n",
      "            remove_list.append(task_view[i])\n",
      "        #trips going down:\n",
      "        elif (going_up == False) and (task_view[i][0] <= task_view[0][0] and task_view[i][1] >= task_view[0][1]):\n",
      "            output_list.append(task_view[i][0])\n",
      "            output_list.append(task_view[i][1])\n",
      "            remove_list.append(task_view[i])\n",
      "            \n",
      "            \n",
      "    #print \"removeset is : %s\" %remove_list        \n",
      "    \n",
      "    for i in remove_list:\n",
      "        task.remove(i)\n",
      "    \n",
      "    #print \"taskset less removeset is : %s\" %task \n",
      "    \n",
      "    \n",
      "    for i in task[1:]:\n",
      "        if (i[0] in output_list) == False:\n",
      "            output_list.append(i[0])\n",
      "        if (i[1] in output_list) == False:\n",
      "            output_list.append(i[1])\n",
      "    #calcualte trip total\n",
      "    trip_total = 0\n",
      "    trip_total = abs(task[0] - task[1][0])\n",
      "    \n",
      "    for i in xrange(1, len(task)):\n",
      "        # raise error if data is malformed\n",
      "        if len(task[i]) != 2:\n",
      "            sys.stdout.write('\\n[Error!] Data in task %s is not in the correct '\\\n",
      "                    '[<start_floor> - <end_floor>] format.\\nTask:\\n%s\\n'\\\n",
      "                    %(i, task[i]))\n",
      "        \n",
      "        #calculate intra-floor trip distance\n",
      "        trip_total += abs(task[i][1] - task[i][0])\n",
      "        \n",
      "        #calculate distance travled between requests\n",
      "        if (i+1) < len(task):\n",
      "            trip_total += abs(task[i][1] - task[i+1][0])\n",
      "    \n",
      "    \n",
      "    \n",
      "    for i in output_list:\n",
      "        sys.stdout.write(\"%s \" %i)\n",
      "    sys.stdout.write(\"(%s)\\n\" %trip_total)"
     ],
     "language": "python",
     "metadata": {},
     "outputs": [],
     "prompt_number": 21
    },
    {
     "cell_type": "code",
     "collapsed": false,
     "input": [
      "def add_to_sequence_list(val, target_list):\n",
      "    '''\n",
      "    adds only unqiue vales to a target list\n",
      "    '''\n",
      "    if (val in target_list) == False:\n",
      "        target_list.append(val)"
     ],
     "language": "python",
     "metadata": {},
     "outputs": [],
     "prompt_number": 141
    },
    {
     "cell_type": "code",
     "collapsed": false,
     "input": [],
     "language": "python",
     "metadata": {},
     "outputs": [],
     "prompt_number": 22
    },
    {
     "cell_type": "code",
     "collapsed": false,
     "input": [
      "def mode_B2(task):\n",
      "    #handle case where path cannot be optimized beyond mode A\n",
      "    if len(task) < 3:\n",
      "        mode_A(task)\n",
      "    else:\n",
      "        import math    \n",
      "    \n",
      "        #calculate distance from starting floor to first task.\n",
      "        trip_total = abs(task[0] - task[1][0])\n",
      "        #sys.stdout.write(\"%s \" % task[0])\n",
      "        \n",
      "        print \"trip_total + [%s]\" %abs(task[0] - task[1][0])\n",
      "        \n",
      "        output = []\n",
      "        sequence_list = []\n",
      "        previous_sequence_list = None\n",
      "        last_task = False\n",
      "        for task_index in xrange(1, len(task)):\n",
      "            \n",
      "            current_task = task[(task_index)]\n",
      "            current_direction = math.copysign(1, (current_task[0] - current_task[1]))\n",
      "            \n",
      "            if (task_index) == (len(task) - 1):\n",
      "                last_task = True\n",
      "            else:\n",
      "                next_task = task[(task_index+1)]\n",
      "                next_direction = math.copysign(1, (next_task[0] - next_task[1]))\n",
      "            \n",
      "            add_to_sequence_list(current_task[0], sequence_list)\n",
      "            add_to_sequence_list(current_task[1], sequence_list)\n",
      "            \n",
      "            print current_task[0], current_task[1], current_direction, next_direction, (current_direction != next_direction), last_task, task_index, task[task_index] , trip_total\n",
      "         \n",
      "            if (current_direction != next_direction) or last_task:\n",
      "                \n",
      "                if current_direction < 0:\n",
      "                    sequence_list.sort()\n",
      "                    output.append(sequence_list)\n",
      "                    \n",
      "                    for i in xrange(1, len(sequence_list)):\n",
      "                        trip_total += (sequence_list[i] - sequence_list[i-1])\n",
      "                        \n",
      "                        print \"[%s] trip_total + [%s] me unload %s\" %(trip_total, (sequence_list[i] - sequence_list[i-1]), sequence_list)\n",
      "                \n",
      "                    \n",
      "                else:\n",
      "                    sequence_list.sort(reverse=True)\n",
      "                    output.append(sequence_list)\n",
      "                    \n",
      "                    for i in xrange(1, len(sequence_list)):\n",
      "                        trip_total += (sequence_list[i-1] - sequence_list[i])\n",
      "                         \n",
      "                        print \"[%s] trip_total + [%s] unload %s\" %(trip_total, (sequence_list[i-1] - sequence_list[i]), sequence_list)\n",
      "                \n",
      "                #print \"seq l [%s]\" %sequence_list\n",
      "                \n",
      "                #calcualte intra-sqeucence dist\n",
      "                if previous_sequence_list != None:\n",
      "                    trip_total += abs(previous_sequence_list[-1] - sequence_list[0])\n",
      "                    \n",
      "                    print \"[%s] trip_total + [%s] dist between %s (%s) and (%s) %s\" %(trip_total, abs(sequence_list[-1] - next_task[0]),sequence_list[-2], sequence_list[-1], next_task[0], next_task[1])\n",
      "                \n",
      "                #reset vars    \n",
      "                previous_sequence_list = sequence_list\n",
      "                del sequence_list\n",
      "                sequence_list = []\n",
      "        \n",
      "        from itertools import chain\n",
      "        for i in list(chain.from_iterable(output)):\n",
      "            sys.stdout.write(\"%s \" % i)\n",
      "            \n",
      "        sys.stdout.write(\"(%s)\\n\" %trip_total)\n",
      "                    \n",
      "            "
     ],
     "language": "python",
     "metadata": {},
     "outputs": [],
     "prompt_number": 311
    },
    {
     "cell_type": "code",
     "collapsed": false,
     "input": [
      "tasks = parse_input('input/sample.txt')\n",
      "\n",
      "mode_B2(tasks[2])"
     ],
     "language": "python",
     "metadata": {},
     "outputs": [
      {
       "output_type": "stream",
       "stream": "stdout",
       "text": [
        "trip_total + [2]\n",
        "4 1 1.0 1.0 False False 1 (4, 1) 2\n",
        "4 2 1.0 -1.0 True False 2 (4, 2) 2\n",
        "[4] trip_total + [2] unload [4, 2, 1]\n",
        "[5] trip_total + [1] unload [4, 2, 1]\n",
        "6 8 -1.0 -1.0 False True 3 (6, 8) 5\n",
        "[7] trip_total + [2] me unload [6, 8]\n",
        "[12] trip_total + [2] dist between 6 (8) and (6) 8\n",
        "4 2 1 6 8 (12)\n"
       ]
      }
     ],
     "prompt_number": 312
    },
    {
     "cell_type": "code",
     "collapsed": false,
     "input": [
      "cat input/sample.txt"
     ],
     "language": "python",
     "metadata": {},
     "outputs": [
      {
       "output_type": "stream",
       "stream": "stdout",
       "text": [
        "10:8-1\r\n",
        "9:1-5,1-6,1-5\r\n",
        "2:4-1,4-2,6-8\r\n",
        "3:7-9,3-7,5-8,7-11,11-1\r\n",
        "7:11-6,10-5,6-8,7-4,12-7,8-9\r\n",
        "6:1-8,6-8"
       ]
      }
     ],
     "prompt_number": 287
    },
    {
     "cell_type": "code",
     "collapsed": false,
     "input": [
      "for i in tasks:\n",
      "    mode_B2(i)"
     ],
     "language": "python",
     "metadata": {},
     "outputs": [
      {
       "output_type": "stream",
       "stream": "stdout",
       "text": [
        "10 8 1 (9)\n",
        "trip_total + [8]\n",
        "1 5 -1.0 -1.0 False False 1 (1, 5) 8\n",
        "1 6 -1.0 -1.0 False False 2 (1, 6) 8\n",
        "1 5 -1.0 -1.0 False True 3 (1, 5) 8\n",
        "[12] trip_total + [4] me unload [1, 5, 6]\n",
        "[13] trip_total + [1] me unload [1, 5, 6]\n",
        "1 5 6 (13)\n",
        "trip_total + [2]\n",
        "4 1 1.0 1.0 False False 1 (4, 1) 2\n",
        "4 2 1.0 -1.0 True False 2 (4, 2) 2\n",
        "[4] trip_total + [2] unload [4, 2, 1]\n",
        "[5] trip_total + [1] unload [4, 2, 1]\n",
        "6 8 -1.0 -1.0 False True 3 (6, 8) 5\n",
        "[7] trip_total + [2] me unload [6, 8]\n",
        "[12] trip_total + [2] dist between 6 (8) and (6) 8\n",
        "4 2 1 6 8 (12)\n",
        "trip_total + [4]\n",
        "7 9 -1.0 -1.0 False False 1 (7, 9) 4\n",
        "3 7 -1.0 -1.0 False False 2 (3, 7) 4\n",
        "5 8 -1.0 -1.0 False False 3 (5, 8) 4\n",
        "7 11 -1.0 1.0 True False 4 (7, 11) 4\n",
        "[6] trip_total + [2] me unload [3, 5, 7, 8, 9, 11]\n",
        "[8] trip_total + [2] me unload [3, 5, 7, 8, 9, 11]\n",
        "[9] trip_total + [1] me unload [3, 5, 7, 8, 9, 11]\n",
        "[10] trip_total + [1] me unload [3, 5, 7, 8, 9, 11]\n",
        "[12] trip_total + [2] me unload [3, 5, 7, 8, 9, 11]\n",
        "11 1 1.0 1.0 False True 5 (11, 1) 12\n",
        "[22] trip_total + [10] unload [11, 1]\n",
        "[22] trip_total + [10] dist between 11 (1) and (11) 1\n",
        "3 5 7 8 9 11 11 1 (22)\n",
        "trip_total + [4]\n",
        "11 6 1.0 1.0 False False 1 (11, 6) 4\n",
        "10 5 1.0 -1.0 True False 2 (10, 5) 4\n",
        "[5] trip_total + [1] unload [11, 10, 6, 5]\n",
        "[9] trip_total + [4] unload [11, 10, 6, 5]\n",
        "[10] trip_total + [1] unload [11, 10, 6, 5]\n",
        "6 8 -1.0 1.0 True False 3 (6, 8) 10\n",
        "[12] trip_total + [2] me unload [6, 8]\n",
        "[13] trip_total + [1] dist between 6 (8) and (7) 4\n",
        "7 4 1.0 1.0 False False 4 (7, 4) 13\n",
        "12 7 1.0 -1.0 True False 5 (12, 7) 13\n",
        "[18] trip_total + [5] unload [12, 7, 4]\n",
        "[21] trip_total + [3] unload [12, 7, 4]\n",
        "[25] trip_total + [4] dist between 7 (4) and (8) 9\n",
        "8 9 -1.0 -1.0 False True 6 (8, 9) 25\n",
        "[26] trip_total + [1] me unload [8, 9]\n",
        "[30] trip_total + [1] dist between 8 (9) and (8) 9\n",
        "11 10 6 5 6 8 12 7 4 8 9 (30)\n",
        "trip_total + [5]\n",
        "1 8 -1.0 -1.0 False False 1 (1, 8) 5\n",
        "6 8 -1.0 -1.0 False True 2 (6, 8) 5\n",
        "[10] trip_total + [5] me unload [1, 6, 8]\n",
        "[12] trip_total + [2] me unload [1, 6, 8]\n",
        "1 6 8 (12)\n"
       ]
      }
     ],
     "prompt_number": 313
    },
    {
     "cell_type": "code",
     "collapsed": false,
     "input": [
      "10 8 1 (9)\n",
      "9 1 5 6 (13)\n",
      "2 4 2 1 6 8 (12)\n",
      "3 5 7 8 9 11 1 (18)\n",
      "7 11 10 6 5 6 8 12 7 4 8 9 (30)\n",
      "6 1 6 8 (12)"
     ],
     "language": "python",
     "metadata": {},
     "outputs": [
      {
       "ename": "SyntaxError",
       "evalue": "invalid syntax (<ipython-input-535-010f4b4ee789>, line 1)",
       "output_type": "pyerr",
       "traceback": [
        "\u001b[1;36m  File \u001b[1;32m\"<ipython-input-535-010f4b4ee789>\"\u001b[1;36m, line \u001b[1;32m1\u001b[0m\n\u001b[1;33m    10 8 1 (9)\u001b[0m\n\u001b[1;37m       ^\u001b[0m\n\u001b[1;31mSyntaxError\u001b[0m\u001b[1;31m:\u001b[0m invalid syntax\n"
       ]
      }
     ],
     "prompt_number": 535
    },
    {
     "cell_type": "code",
     "collapsed": false,
     "input": [],
     "language": "python",
     "metadata": {},
     "outputs": []
    },
    {
     "cell_type": "code",
     "collapsed": false,
     "input": [
      "total = 0\n",
      "for i in [2, 4, 2, 1, 6, 8,]: \n",
      "    total += i \n",
      "print total "
     ],
     "language": "python",
     "metadata": {},
     "outputs": [
      {
       "output_type": "stream",
       "stream": "stdout",
       "text": [
        "23\n"
       ]
      }
     ],
     "prompt_number": 186
    },
    {
     "cell_type": "code",
     "collapsed": false,
     "input": [
      "dist = []\n",
      "for i in range(1,len(tst)):\n",
      "    dist.append(tst[i][1]-tst[i][0])"
     ],
     "language": "python",
     "metadata": {},
     "outputs": [
      {
       "ename": "TypeError",
       "evalue": "unsupported operand type(s) for -: 'tuple' and 'int'",
       "output_type": "pyerr",
       "traceback": [
        "\u001b[1;31m---------------------------------------------------------------------------\u001b[0m\n\u001b[1;31mTypeError\u001b[0m                                 Traceback (most recent call last)",
        "\u001b[1;32m<ipython-input-536-27ac195ae9cd>\u001b[0m in \u001b[0;36m<module>\u001b[1;34m()\u001b[0m\n\u001b[0;32m      1\u001b[0m \u001b[0mdist\u001b[0m \u001b[1;33m=\u001b[0m \u001b[1;33m[\u001b[0m\u001b[1;33m]\u001b[0m\u001b[1;33m\u001b[0m\u001b[0m\n\u001b[0;32m      2\u001b[0m \u001b[1;32mfor\u001b[0m \u001b[0mi\u001b[0m \u001b[1;32min\u001b[0m \u001b[0mrange\u001b[0m\u001b[1;33m(\u001b[0m\u001b[1;36m1\u001b[0m\u001b[1;33m,\u001b[0m\u001b[0mlen\u001b[0m\u001b[1;33m(\u001b[0m\u001b[0mtst\u001b[0m\u001b[1;33m)\u001b[0m\u001b[1;33m)\u001b[0m\u001b[1;33m:\u001b[0m\u001b[1;33m\u001b[0m\u001b[0m\n\u001b[1;32m----> 3\u001b[1;33m     \u001b[0mdist\u001b[0m\u001b[1;33m.\u001b[0m\u001b[0mappend\u001b[0m\u001b[1;33m(\u001b[0m\u001b[0mtst\u001b[0m\u001b[1;33m[\u001b[0m\u001b[0mi\u001b[0m\u001b[1;33m]\u001b[0m\u001b[1;33m[\u001b[0m\u001b[1;36m1\u001b[0m\u001b[1;33m]\u001b[0m\u001b[1;33m-\u001b[0m\u001b[0mtst\u001b[0m\u001b[1;33m[\u001b[0m\u001b[0mi\u001b[0m\u001b[1;33m]\u001b[0m\u001b[1;33m[\u001b[0m\u001b[1;36m0\u001b[0m\u001b[1;33m]\u001b[0m\u001b[1;33m)\u001b[0m\u001b[1;33m\u001b[0m\u001b[0m\n\u001b[0m",
        "\u001b[1;31mTypeError\u001b[0m: unsupported operand type(s) for -: 'tuple' and 'int'"
       ]
      }
     ],
     "prompt_number": 536
    },
    {
     "cell_type": "code",
     "collapsed": false,
     "input": [
      "dist"
     ],
     "language": "python",
     "metadata": {},
     "outputs": [
      {
       "metadata": {},
       "output_type": "pyout",
       "prompt_number": 378,
       "text": [
        "[4, 5, 4]"
       ]
      }
     ],
     "prompt_number": 378
    },
    {
     "cell_type": "code",
     "collapsed": false,
     "input": [
      "dist.sort(reverse=True)"
     ],
     "language": "python",
     "metadata": {},
     "outputs": [],
     "prompt_number": 379
    },
    {
     "cell_type": "code",
     "collapsed": false,
     "input": [
      "dist"
     ],
     "language": "python",
     "metadata": {},
     "outputs": [
      {
       "metadata": {},
       "output_type": "pyout",
       "prompt_number": 380,
       "text": [
        "[5, 4, 4]"
       ]
      }
     ],
     "prompt_number": 380
    },
    {
     "cell_type": "code",
     "collapsed": false,
     "input": [
      "del_list = []\n",
      "for i in xrange(0, len(dist)):\n",
      "    val = dist[i]\n",
      "    for i_2 in xrange((i+1), len(dist)):\n",
      "                if i < val:\n",
      "                    del_list.append(dist[i_2])\n",
      "        "
     ],
     "language": "python",
     "metadata": {},
     "outputs": [],
     "prompt_number": 384
    },
    {
     "cell_type": "code",
     "collapsed": false,
     "input": [],
     "language": "python",
     "metadata": {},
     "outputs": []
    }
   ],
   "metadata": {}
  }
 ]
}