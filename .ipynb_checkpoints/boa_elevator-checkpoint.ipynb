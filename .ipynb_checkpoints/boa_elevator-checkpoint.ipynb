{
 "metadata": {
  "name": ""
 },
 "nbformat": 3,
 "nbformat_minor": 0,
 "worksheets": [
  {
   "cells": [
    {
     "cell_type": "code",
     "collapsed": false,
     "input": [
      "cat i"
     ],
     "language": "python",
     "metadata": {},
     "outputs": [
      {
       "output_type": "stream",
       "stream": "stdout",
       "text": [
        "10:8-1\r\n",
        "9:1-5,1-6,1-5\r\n",
        "2:4-1,4-2,6-8\r\n",
        "3:7-9,3-7,5-8,7-11,11-1\r\n",
        "7:11-6,10-5,6-8,7-4,12-7,8-9\r\n",
        "6:1-8,6-8"
       ]
      }
     ],
     "prompt_number": 15
    },
    {
     "cell_type": "code",
     "collapsed": false,
     "input": [
      "def elevator(f, mode):\n",
      "    '''\n",
      "    BOA elevator function\n",
      "    \n",
      "    --Inputs -- \n",
      "    \n",
      "    f is the input file's path in quotes\n",
      "    ie. 'input/sample.txt'\n",
      "    \n",
      "    Mode is the mode elevator's operating mode.\n",
      "    ie. 'A', or 'B'\n",
      "    \n",
      "    '''\n",
      "    import sys\n",
      "    mode = 'A'\n",
      "    tasks = parse_input(f)\n",
      "    "
     ],
     "language": "python",
     "metadata": {},
     "outputs": [],
     "prompt_number": 297
    },
    {
     "cell_type": "code",
     "collapsed": false,
     "input": [
      "def parse_input(f):    \n",
      "    '''\n",
      "    f is the input file's path in quotes\n",
      "    ie. 'input/sample.txt'\n",
      "    \n",
      "    returns a parsed list of elevator tasks\n",
      "    '''\n",
      "    import re\n",
      "    tasks = []\n",
      "    with open(f, 'r') as f:\n",
      "        for i in f:\n",
      "            append_holder = []\n",
      "            \n",
      "            i = i.strip()\n",
      "            split_holder = re.split(\":|-|,\", i)\n",
      "            \n",
      "            \n",
      "            #append starting floor value\n",
      "            append_holder.append(int(split_holder[0]))\n",
      "            \n",
      "            \n",
      "            #append tuples of start & end floors for tasks\n",
      "            for i in xrange(1, len(split_holder),2):\n",
      "                append_holder.append((int(split_holder[i]), int(split_holder[i+1])))\n",
      "                \n",
      "            \n",
      "            #append out append_holder bin to our output list; tasks.\n",
      "            tasks.append(append_holder)\n",
      "            del append_holder\n",
      "        return tasks\n",
      "            "
     ],
     "language": "python",
     "metadata": {},
     "outputs": [],
     "prompt_number": 272
    },
    {
     "cell_type": "code",
     "collapsed": false,
     "input": [
      "sys.stdout.write(\"h \")\n",
      "sys.stdout.write(\"h\")\n",
      "sys.stdout.write(\"h\")"
     ],
     "language": "python",
     "metadata": {},
     "outputs": [
      {
       "output_type": "stream",
       "stream": "stdout",
       "text": [
        "h hh"
       ]
      }
     ],
     "prompt_number": 308
    },
    {
     "cell_type": "code",
     "collapsed": false,
     "input": [],
     "language": "python",
     "metadata": {},
     "outputs": []
    },
    {
     "cell_type": "code",
     "collapsed": false,
     "input": [
      "def mode_A(task):\n",
      "    '''\n",
      "    '''\n",
      "    #for mode A\n",
      "    trip_total = 0\n",
      "    trip_total = abs(task[0] - task[1][0])\n",
      "    \n",
      "    #output stating floor:\n",
      "    sys.stdout.write(\"%s \" % task[0])\n",
      "    \n",
      "    for i in xrange(1, len(task)):\n",
      "        # raise error if data is malformed\n",
      "        if len(task[i]) != 2:\n",
      "            sys.stdout.write('\\n[Error!] Data in task %s is not in the correct '\\\n",
      "                    '[<start_floor> - <end_floor>] format.\\nTask:\\n%s\\n'\\\n",
      "                    %(i, task[i]))\n",
      "        \n",
      "        #calculate intra-floor trip distance\n",
      "        trip_total += abs(task[i][1] - task[i][0])\n",
      "        \n",
      "        #output floors travled\n",
      "        sys.stdout.write(\"%s \" % task[i][0])\n",
      "        sys.stdout.write(\"%s \" % task[i][1])\n",
      "        \n",
      "        #calculate distance travled between requests\n",
      "        if (i+1) < len(task):\n",
      "            trip_total += abs(task[i][1] - task[i+1][0])\n",
      "    \n",
      "    sys.stdout.write(\"(%s)\\n\" % trip_total)\n",
      "        \n",
      "  "
     ],
     "language": "python",
     "metadata": {},
     "outputs": [],
     "prompt_number": 322
    },
    {
     "cell_type": "code",
     "collapsed": false,
     "input": [
      "tasks = parse_input('input/sample.txt')\n",
      "for i in tasks:\n",
      "    mode_A(i)"
     ],
     "language": "python",
     "metadata": {},
     "outputs": [
      {
       "output_type": "stream",
       "stream": "stdout",
       "text": [
        "10 8 1 (9)\n",
        "9 1 5 1 6 1 5 (30)\n",
        "2 4 1 4 2 6 8 (16)\n",
        "3 7 9 3 7 5 8 7 11 11 1 (36)\n",
        "7 11 6 10 5 6 8 7 4 12 7 8 9 (40)\n",
        "6 1 8 6 8 (16)\n"
       ]
      }
     ],
     "prompt_number": 323
    },
    {
     "cell_type": "code",
     "collapsed": false,
     "input": [],
     "language": "python",
     "metadata": {},
     "outputs": []
    }
   ],
   "metadata": {}
  }
 ]
}